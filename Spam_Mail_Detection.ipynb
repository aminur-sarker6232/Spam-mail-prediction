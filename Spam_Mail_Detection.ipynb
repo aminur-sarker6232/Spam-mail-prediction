{
  "nbformat": 4,
  "nbformat_minor": 0,
  "metadata": {
    "colab": {
      "provenance": []
    },
    "kernelspec": {
      "name": "python3",
      "display_name": "Python 3"
    },
    "language_info": {
      "name": "python"
    }
  },
  "cells": [
    {
      "cell_type": "code",
      "execution_count": null,
      "metadata": {
        "id": "7PNV002qWHP-"
      },
      "outputs": [],
      "source": [
        "import numpy as np\n",
        "import pandas as pd"
      ]
    },
    {
      "cell_type": "code",
      "source": [
        "# from google.colab import drive\n",
        "# drive.mount('/content/drive')\n",
        "# df = pd.read_csv('/content/drive/My Drive/Learning Note/Spam Mail Detection/emails.csv', sep=\",\")\n",
        "df = pd.read_csv(r'https://raw.githubusercontent.com/aminur-sarker6232/Spam-mail-prediction/refs/heads/main/emails.csv', sep=\",\")"
      ],
      "metadata": {
        "id": "OEeD-xv3Yhub"
      },
      "execution_count": null,
      "outputs": []
    },
    {
      "cell_type": "code",
      "source": [
        "df"
      ],
      "metadata": {
        "id": "PayWtPjxZBcn"
      },
      "execution_count": null,
      "outputs": []
    },
    {
      "cell_type": "code",
      "source": [
        "df.head()"
      ],
      "metadata": {
        "id": "O6KKOmIQZSch"
      },
      "execution_count": null,
      "outputs": []
    },
    {
      "cell_type": "code",
      "source": [
        "df.info()"
      ],
      "metadata": {
        "id": "5kqXQmONZSpY"
      },
      "execution_count": null,
      "outputs": []
    },
    {
      "cell_type": "code",
      "source": [
        "df.drop_duplicates(inplace=True)"
      ],
      "metadata": {
        "id": "5bCVG1lmZTI-"
      },
      "execution_count": null,
      "outputs": []
    },
    {
      "cell_type": "code",
      "source": [
        "df['spam'].value_counts(())"
      ],
      "metadata": {
        "id": "xqvHB8wtZTMI"
      },
      "execution_count": null,
      "outputs": []
    },
    {
      "cell_type": "code",
      "source": [
        "df.isnull().sum()"
      ],
      "metadata": {
        "id": "QxZp4fMHZTOn"
      },
      "execution_count": null,
      "outputs": []
    },
    {
      "cell_type": "code",
      "source": [],
      "metadata": {
        "id": "GHAGymljeu5O"
      },
      "execution_count": null,
      "outputs": []
    },
    {
      "cell_type": "markdown",
      "source": [
        "### Value initial for x axis and y axis"
      ],
      "metadata": {
        "id": "41h5m5IyfaYM"
      }
    },
    {
      "cell_type": "code",
      "source": [
        "x_points=df['text'].values\n",
        "y_points =df['spam'].values"
      ],
      "metadata": {
        "id": "BonbF3V1euwa"
      },
      "execution_count": null,
      "outputs": []
    },
    {
      "cell_type": "markdown",
      "source": [
        "### Training part from skleatn.model_selection"
      ],
      "metadata": {
        "id": "udLZnhcHggRA"
      }
    },
    {
      "cell_type": "code",
      "source": [
        "from sklearn.model_selection import train_test_split"
      ],
      "metadata": {
        "id": "EO2jxe_Lf3rd"
      },
      "execution_count": null,
      "outputs": []
    },
    {
      "cell_type": "code",
      "source": [
        "xtrain, xtest, ytrain, ytest = train_test_split(x_points, y_points, test_size=.2)"
      ],
      "metadata": {
        "id": "MkZFXfxPeu8I"
      },
      "execution_count": null,
      "outputs": []
    },
    {
      "cell_type": "markdown",
      "source": [
        "### Data Preposesing\n"
      ],
      "metadata": {
        "id": "i3WvHSJ7hGCI"
      }
    },
    {
      "cell_type": "code",
      "source": [
        "from sklearn.feature_extraction.text import CountVectorizer"
      ],
      "metadata": {
        "id": "Ug5PSoGCevFL"
      },
      "execution_count": null,
      "outputs": []
    },
    {
      "cell_type": "code",
      "source": [
        "count_vectorizer = CountVectorizer()"
      ],
      "metadata": {
        "id": "UcuNB2reevIG"
      },
      "execution_count": null,
      "outputs": []
    },
    {
      "cell_type": "code",
      "source": [
        "x_train = count_vectorizer.fit_transform(xtrain) #xtrain prepossesing\n",
        "x_train.toarray() #showing as array after preposesing"
      ],
      "metadata": {
        "id": "WYoQXDdnevLL"
      },
      "execution_count": null,
      "outputs": []
    },
    {
      "cell_type": "markdown",
      "source": [
        "### ML Algorithm"
      ],
      "metadata": {
        "id": "wTB5-6AFixYr"
      }
    },
    {
      "cell_type": "code",
      "source": [
        "from sklearn.naive_bayes import MultinomialNB"
      ],
      "metadata": {
        "id": "5hXiYHCsiwG6"
      },
      "execution_count": null,
      "outputs": []
    },
    {
      "cell_type": "code",
      "source": [
        "multinomial_nb = MultinomialNB()"
      ],
      "metadata": {
        "id": "bVs7XoiFiwJy"
      },
      "execution_count": null,
      "outputs": []
    },
    {
      "cell_type": "code",
      "source": [
        "multinomial_nb.fit(x_train, ytrain)"
      ],
      "metadata": {
        "id": "bl7vMraPiwMm"
      },
      "execution_count": null,
      "outputs": []
    },
    {
      "cell_type": "code",
      "source": [
        "x_test = count_vectorizer.transform(xtest)\n"
      ],
      "metadata": {
        "id": "DoU0VsBjiwVc"
      },
      "execution_count": null,
      "outputs": []
    },
    {
      "cell_type": "code",
      "source": [
        "x_test.toarray()"
      ],
      "metadata": {
        "id": "aEEUjprbkHlP"
      },
      "execution_count": null,
      "outputs": []
    },
    {
      "cell_type": "code",
      "source": [
        "multinomial_nb.score(x_test, ytest) #to get accurecy use score which take 2 argument"
      ],
      "metadata": {
        "id": "WTfcN8Z2iwYU"
      },
      "execution_count": null,
      "outputs": []
    },
    {
      "cell_type": "markdown",
      "source": [
        "### Testing a email which is spam or not"
      ],
      "metadata": {
        "id": "jVQMGEhDmXlo"
      }
    },
    {
      "cell_type": "code",
      "source": [
        "emails = [\"I would like to request a meeting with you to discuss. I believe it would be beneficial to go over\"]\n",
        "count_vectorizer_emails = count_vectorizer.transform(emails)\n",
        "multinomial_nb.predict(count_vectorizer_emails)"
      ],
      "metadata": {
        "id": "Fvp5LLwamOZi"
      },
      "execution_count": null,
      "outputs": []
    }
  ]
}